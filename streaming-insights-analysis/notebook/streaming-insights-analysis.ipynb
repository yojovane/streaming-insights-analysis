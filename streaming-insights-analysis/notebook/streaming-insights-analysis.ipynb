{
 "cells": [
  {
   "cell_type": "markdown",
   "id": "dc9e8a5e",
   "metadata": {},
   "source": [
    "# 🎬 Streaming Insights | User Behavior Analysis on Streaming Platforms\n",
    "\n",
    "**Business context:** Streaming platforms see high consumption but non-trivial content abandonment.\n",
    "This notebook analyzes user behavior (device, time-of-day, content type, plan) to surface patterns\n",
    "that drive session completion and informs tactics to reduce churn and increase engagement."
   ]
  },
  {
   "cell_type": "code",
   "execution_count": null,
   "id": "d22b13f1",
   "metadata": {},
   "outputs": [],
   "source": [
    "import os\n",
    "import numpy as np\n",
    "import pandas as pd\n",
    "import matplotlib.pyplot as plt\n",
    "import seaborn as sns\n",
    "from datetime import datetime, timedelta\n",
    "\n",
    "sns.set(style='whitegrid')\n",
    "np.random.seed(42)\n",
    "print('✅ Environment successfully configured!')\n"
   ]
  },
  {
   "cell_type": "code",
   "execution_count": null,
   "id": "69f2e947",
   "metadata": {},
   "outputs": [],
   "source": [
    "for d in ['data', 'images', 'reports']:\n",
    "    os.makedirs(d, exist_ok=True)\n",
    "print('📁 Ensured folders: data/, images/, reports/')\n"
   ]
  },
  {
   "cell_type": "markdown",
   "id": "9097fa44",
   "metadata": {},
   "source": [
    "## Data Loading / Generation\n",
    "If `data/streaming_data.csv` does not exist, a synthetic dataset (~10k rows) will be generated.\n",
    "Embedded patterns to reflect realistic behavior:\n",
    "- **Mobile penalty** for long content (>45min)\n",
    "- **Short documentaries (<30min)** have the highest completion rate\n",
    "- **Lower engagement around 10–11 PM**\n",
    "- **Free plan** has the lowest average completion rate\n"
   ]
  },
  {
   "cell_type": "code",
   "execution_count": null,
   "id": "d3f2bd6d",
   "metadata": {},
   "outputs": [],
   "source": [
    "csv_path = os.path.join('data', 'streaming_data.csv')\n",
    "n = 10_000\n",
    "\n",
    "if os.path.exists(csv_path):\n",
    "    df = pd.read_csv(csv_path)\n",
    "    print(f'📥 Loaded existing dataset: {csv_path} | shape={df.shape}')\n",
    "else:\n",
    "    # --- Synthetic data generation with business patterns ---\n",
    "    content_types = np.random.choice(['series','movie','documentary'], size=n, p=[0.5,0.3,0.2])\n",
    "    device_types  = np.random.choice(['mobile','tv','desktop','tablet'], size=n, p=[0.45,0.35,0.1,0.1])\n",
    "    user_plans    = np.random.choice(['free','basic','premium'], size=n, p=[0.35,0.4,0.25])\n",
    "    age_groups    = np.random.choice(['18-24','25-34','35-44','45-54','55+'], size=n, p=[0.18,0.32,0.22,0.18,0.10])\n",
    "    regions       = np.random.choice(['NA','LATAM','EU','APAC'], size=n, p=[0.5,0.15,0.2,0.15])\n",
    "\n",
    "    # Duration by content type (minutes)\n",
    "    base_duration = {\n",
    "        'series':      (35, 12),   # mean, std\n",
    "        'movie':       (105, 25),\n",
    "        'documentary': (50, 20)\n",
    "    }\n",
    "    durations = np.clip(np.array([\n",
    "        np.random.normal(base_duration[ct][0], base_duration[ct][1]) for ct in content_types\n",
    "    ]), 5, 240)\n",
    "\n",
    "    # Start times across a day\n",
    "    start_hours = np.random.choice(np.arange(0,24), size=n, p=np.array([\n",
    "        # hour distribution favoring evenings\n",
    "        0.02,0.015,0.01,0.008,0.008,0.01,0.015,0.02,\n",
    "        0.03,0.04,0.05,0.06,0.07,0.08,0.09,0.10,\n",
    "        0.10,0.09,0.08,0.07,0.05,0.035,0.02,0.015\n",
    "    ]) / np.sum([\n",
    "        0.02,0.015,0.01,0.008,0.008,0.01,0.015,0.02,\n",
    "        0.03,0.04,0.05,0.06,0.07,0.08,0.09,0.10,\n",
    "        0.10,0.09,0.08,0.07,0.05,0.035,0.02,0.015\n",
    "    ]))\n",
    "    start_time_str = [f\"{h:02d}:{np.random.randint(0,60):02d}:{np.random.randint(0,60):02d}\" for h in start_hours]\n",
    "\n",
    "    # Watch dates last 90 days\n",
    "    today = datetime.now().date()\n",
    "    days_back = np.random.randint(0, 90, size=n)\n",
    "    watch_dates = [str(today - timedelta(days=int(d))) for d in days_back]\n",
    "\n",
    "    # Baseline completion via Beta, then apply business effects\n",
    "    # Start with slightly different baselines by content type\n",
    "    baseline_map = {'series': (2.5, 2.0), 'movie': (2.2, 2.3), 'documentary': (2.8, 1.9)}\n",
    "    baseline = np.array([np.random.beta(*baseline_map[ct]) for ct in content_types])\n",
    "\n",
    "    # Apply penalties/boosts\n",
    "    long_mask = durations > 45\n",
    "    mobile_mask = (device_types == 'mobile')\n",
    "    doc_mask = (content_types == 'documentary')\n",
    "    short_doc_mask = doc_mask & (durations < 30)\n",
    "    hour_10_pm_mask = (start_hours == 22)  # 10 PM\n",
    "    free_mask = (user_plans == 'free')\n",
    "\n",
    "    completion = baseline.copy()\n",
    "    # Mobile penalty on long content\n",
    "    completion[long_mask & mobile_mask] -= 0.15\n",
    "    # Short documentaries boost\n",
    "    completion[short_doc_mask] += 0.15\n",
    "    # 10 PM dip\n",
    "    completion[hour_10_pm_mask] -= 0.10\n",
    "    # Additional dip for free plan\n",
    "    completion[free_mask] -= 0.07\n",
    "    # Slight TV boost\n",
    "    completion[(device_types=='tv')] += 0.03\n",
    "\n",
    "    # Add a little noise\n",
    "    completion += np.random.normal(0, 0.03, size=n)\n",
    "    completion = np.clip(completion, 0, 1)\n",
    "\n",
    "    watched = np.clip(completion * durations + np.random.normal(0, 3, size=n), 0, None)\n",
    "\n",
    "    df = pd.DataFrame({\n",
    "        'user_id': np.random.randint(100000, 999999, size=n),\n",
    "        'content_type': content_types,\n",
    "        'duration_minutes': durations.round(0).astype(int),\n",
    "        'watched_minutes': watched.round(0).astype(int),\n",
    "        'device_type': device_types,\n",
    "        'watch_date': watch_dates,\n",
    "        'start_time': start_time_str,\n",
    "        'age_group': age_groups,\n",
    "        'region': regions,\n",
    "        'user_plan': user_plans\n",
    "    })\n",
    "\n",
    "    df.to_csv(csv_path, index=False)\n",
    "    print(f'🧪 Generated synthetic dataset and saved to {csv_path} | shape={df.shape}')\n"
   ]
  },
  {
   "cell_type": "code",
   "execution_count": null,
   "id": "ed94b7bf",
   "metadata": {},
   "outputs": [],
   "source": [
    "display(df.head())\n",
    "display(df.describe(include='all').T)\n"
   ]
  },
  {
   "cell_type": "markdown",
   "id": "3c5bca5a",
   "metadata": {},
   "source": [
    "## Feature Engineering\n",
    "We will create: `completion_rate`, `start_hour`, and `long_session`."
   ]
  },
  {
   "cell_type": "code",
   "execution_count": null,
   "id": "4b7e9461",
   "metadata": {},
   "outputs": [],
   "source": [
    "df['watch_date'] = pd.to_datetime(df['watch_date'])\n",
    "df['completion_rate'] = (df['watched_minutes'] / df['duration_minutes']).clip(0,1)\n",
    "df['start_hour'] = pd.to_datetime(df['start_time'], format='%H:%M:%S').dt.hour\n",
    "df['long_session'] = df['watched_minutes'] > 90\n",
    "print('🧩 Features created: completion_rate, start_hour, long_session')\n",
    "display(df.head())\n"
   ]
  },
  {
   "cell_type": "markdown",
   "id": "4b30948c",
   "metadata": {},
   "source": [
    "## Exploratory Data Analysis (EDA)\n",
    "Charts generated below will also be saved under `images/`."
   ]
  },
  {
   "cell_type": "code",
   "execution_count": null,
   "id": "4774c063",
   "metadata": {},
   "outputs": [],
   "source": [
    "fig, ax = plt.subplots(figsize=(8,5))\n",
    "order = ['series','movie','documentary']\n",
    "sns.boxplot(data=df, x='content_type', y='completion_rate', order=order, ax=ax)\n",
    "ax.set_title('Completion Rate by Content Type')\n",
    "ax.set_xlabel('Content Type')\n",
    "ax.set_ylabel('Completion Rate (0-1)')\n",
    "plt.ylim(0,1)\n",
    "plt.tight_layout()\n",
    "img1 = os.path.join('images','content_type_boxplot.png')\n",
    "plt.savefig(img1, dpi=120)\n",
    "plt.show()\n",
    "print(f'🖼️ Saved: {os.path.abspath(img1)} | exists={os.path.exists(img1)}')\n"
   ]
  },
  {
   "cell_type": "code",
   "execution_count": null,
   "id": "1d1fc409",
   "metadata": {},
   "outputs": [],
   "source": [
    "required_cols = {'start_hour','content_type','completion_rate'}\n",
    "missing = required_cols - set(df.columns)\n",
    "if missing:\n",
    "    raise ValueError(f'Missing columns: {missing}. Run feature engineering first.')\n",
    "\n",
    "pivot = df.pivot_table(\n",
    "    index='start_hour',\n",
    "    columns='content_type',\n",
    "    values='completion_rate',\n",
    "    aggfunc='mean'\n",
    ")\n",
    "fig, ax = plt.subplots(figsize=(9,6))\n",
    "sns.heatmap(pivot.sort_index(), annot=False, fmt='.2f', cmap='YlGnBu', ax=ax, vmin=0, vmax=1)\n",
    "ax.set_title('Average Completion Rate by Hour × Content Type')\n",
    "ax.set_xlabel('Content Type')\n",
    "ax.set_ylabel('Start Hour')\n",
    "plt.tight_layout()\n",
    "img2 = os.path.join('images','hourly_engagement_heatmap.png')\n",
    "plt.savefig(img2, dpi=120)\n",
    "plt.show()\n",
    "print(f'🖼️ Saved: {os.path.abspath(img2)} | exists={os.path.exists(img2)}')\n"
   ]
  },
  {
   "cell_type": "code",
   "execution_count": null,
   "id": "01b1379b",
   "metadata": {},
   "outputs": [],
   "source": [
    "avg_by_device = df.groupby('device_type', as_index=False)['completion_rate'].mean().sort_values('completion_rate')\n",
    "fig, ax = plt.subplots(figsize=(7,5))\n",
    "sns.barplot(data=avg_by_device, x='device_type', y='completion_rate', ax=ax)\n",
    "ax.set_title('Average Completion Rate by Device Type')\n",
    "ax.set_xlabel('Device Type')\n",
    "ax.set_ylabel('Completion Rate (0-1)')\n",
    "plt.ylim(0,1)\n",
    "plt.tight_layout()\n",
    "plt.show()\n",
    "avg_by_device\n"
   ]
  },
  {
   "cell_type": "markdown",
   "id": "0a8ade8a",
   "metadata": {},
   "source": [
    "## Strategic Insights\n",
    "The following metrics quantify key patterns observed in the analysis."
   ]
  },
  {
   "cell_type": "code",
   "execution_count": null,
   "id": "3416c49f",
   "metadata": {},
   "outputs": [],
   "source": [
    "lines = []\n",
    "\n",
    "# 1) Mobile vs TV penalty on long content (>45 min)\n",
    "long_mask = df['duration_minutes'] > 45\n",
    "mobile_long = df[long_mask & (df['device_type']=='mobile')]['completion_rate'].mean()\n",
    "tv_long = df[long_mask & (df['device_type']=='tv')]['completion_rate'].mean()\n",
    "penalty_pct = (tv_long - mobile_long) * 100\n",
    "lines.append(f\"- Mobile vs TV (content >45 min): mobile={mobile_long:.2%}, tv={tv_long:.2%}, penalty={penalty_pct:.1f} pp\")\n",
    "\n",
    "# 2) Short documentaries (<30 min)\n",
    "short_doc = df[(df['content_type']=='documentary') & (df['duration_minutes']<30)]['completion_rate'].mean()\n",
    "overall = df['completion_rate'].mean()\n",
    "lift_pct = (short_doc - overall) * 100\n",
    "lines.append(f\"- Short documentaries (<30 min) avg completion={short_doc:.2%} (lift vs overall: {lift_pct:.1f} pp)\")\n",
    "\n",
    "# 3) Worst hour overall and for free plan\n",
    "hourly_overall = df.groupby('start_hour')['completion_rate'].mean().sort_values()\n",
    "worst_hour = int(hourly_overall.index[0])\n",
    "worst_hour_val = hourly_overall.iloc[0]\n",
    "\n",
    "hourly_free = df[df['user_plan']=='free'].groupby('start_hour')['completion_rate'].mean().sort_values()\n",
    "worst_hour_free = int(hourly_free.index[0])\n",
    "worst_hour_free_val = hourly_free.iloc[0]\n",
    "lines.append(f\"- Lowest engagement window overall: {worst_hour}:00 with {worst_hour_val:.2%}\")\n",
    "lines.append(f\"- Lowest engagement (free plan): {worst_hour_free}:00 with {worst_hour_free_val:.2%}\")\n",
    "\n",
    "summary_path = os.path.join('reports','summary.md')\n",
    "with open(summary_path, 'w', encoding='utf-8') as f:\n",
    "    f.write('# Key Insights\\n\\n')\n",
    "    for ln in lines:\n",
    "        f.write(ln + '\\n')\n",
    "\n",
    "print('\\n'.join(lines))\n",
    "print(f'📝 Insights saved to {summary_path}')\n"
   ]
  },
  {
   "cell_type": "markdown",
   "id": "c79112e2",
   "metadata": {},
   "source": [
    "## Business Recommendations\n",
    "Retention and personalization levers derived from insights above."
   ]
  },
  {
   "cell_type": "code",
   "execution_count": null,
   "id": "aa0c20ff",
   "metadata": {},
   "outputs": [],
   "source": [
    "recs = [\n",
    "    'Prioritize shorter content in low-engagement windows; adjust recommendation ranking after 22:00.',\n",
    "    'Improve mobile UX for long sessions (resume points, offline downloads, network-adaptive bitrate).',\n",
    "    'Target free-plan cohorts with lightweight content and upgrade prompts for heavy watchers.',\n",
    "    'Run A/B tests on recommendation algorithms and watch-next carousels for low-completion cohorts.'\n",
    "]\n",
    "\n",
    "summary_path = os.path.join('reports','summary.md')\n",
    "with open(summary_path, 'a', encoding='utf-8') as f:\n",
    "    f.write('\\n\\n# Business Recommendations\\n\\n')\n",
    "    for r in recs:\n",
    "        f.write(f'- {r}\\n')\n",
    "print('• ' + '\\n• '.join(recs))\n",
    "print(f'✅ Recommendations appended to {summary_path}')\n"
   ]
  },
  {
   "cell_type": "markdown",
   "id": "ca0e7a59",
   "metadata": {},
   "source": [
    "## Conclusion & Next Steps\n",
    "**Summary:** The analysis confirms device- and time-sensitive engagement patterns and highlights\n",
    "content-type differences (e.g., short documentaries). Tactical levers focus on mobile UX, time-aware\n",
    "programming, and cohort-specific messaging.\n",
    "\n",
    "**Next steps:**\n",
    "1. Build a BI dashboard (Tableau/Power BI) to monitor completion and engagement by cohort.\n",
    "2. Cluster users by behavior (session length, device mix) to drive targeted lifecycle campaigns.\n",
    "3. Prototype a Streamlit app to explore what-if scenarios (content length vs. device vs. hour)."
   ]
  },
  {
   "cell_type": "code",
   "execution_count": null,
   "id": "f6ad6af7",
   "metadata": {},
   "outputs": [],
   "source": [
    "summary_path = os.path.join('reports','summary.md')\n",
    "with open(summary_path, 'a', encoding='utf-8') as f:\n",
    "    f.write('\\n\\n# Conclusion & Next Steps\\n\\n')\n",
    "    f.write('**Summary:** The analysis confirms device- and time-sensitive engagement patterns and highlights content-type differences.\\\\n')\n",
    "    f.write('**Next steps:** Build BI dashboards, run user clustering, prototype a Streamlit what-if tool.\\\\n')\n",
    "\n",
    "print('🏁 Run complete! Key outputs:')\n",
    "print(' - images/content_type_boxplot.png (after running Cell 10)')\n",
    "print(' - images/hourly_engagement_heatmap.png (after running Cell 11)')\n",
    "print(' - reports/summary.md (after running Cells 14, 16, 18)')\n"
   ]
  }
 ],
 "metadata": {
  "kernelspec": {
   "display_name": "Python 3 (ipykernel)",
   "language": "python",
   "name": "python3"
  },
  "language_info": {
   "name": "python",
   "version": "3.10"
  }
 },
 "nbformat": 4,
 "nbformat_minor": 5
}
